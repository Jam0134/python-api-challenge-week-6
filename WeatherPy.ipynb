{
 "cells": [
  {
   "cell_type": "markdown",
   "metadata": {},
   "source": [
    "# WeatherPy\n",
    "----\n",
    "\n",
    "#### Note\n",
    "* Instructions have been included for each segment. You do not have to follow them exactly, but they are included to help you think through the steps."
   ]
  },
  {
   "cell_type": "code",
   "execution_count": 28,
   "metadata": {
    "jupyter": {
     "source_hidden": true
    },
    "scrolled": true
   },
   "outputs": [],
   "source": [
    "import matplotlib.pyplot as plt\n",
    "import pandas as pd\n",
    "import numpy as np\n",
    "import requests\n",
    "import time\n",
    "from scipy import stats\n",
    "from scipy.stats import linregress\n",
    "\n",
    "# Import API key\n",
    "from api_keys import weather_api_key\n",
    "\n",
    "# Incorporated citipy to determine city based on latitude and longitude\n",
    "from citipy import citipy\n",
    "\n",
    "# Output File (CSV)\n",
    "output_data_file = \"output_data/cities.csv\"\n",
    "\n",
    "# Range of latitudes and longitudes\n",
    "lat_range = (-90, 90)\n",
    "lng_range = (-180, 180)\n"
   ]
  },
  {
   "cell_type": "markdown",
   "metadata": {},
   "source": [
    "## Generate Cities List"
   ]
  },
  {
   "cell_type": "code",
   "execution_count": 29,
   "metadata": {},
   "outputs": [],
   "source": [
    "import matplotlib.pyplot as plt\n",
    "import pandas as pd\n",
    "import numpy as np\n",
    "import requests\n",
    "import time\n",
    "from scipy.stats import linregress\n",
    "\n",
    "# Import API key\n",
    "from api_keys import weather_api_key\n",
    "\n",
    "# Incorporated citipy to determine city based on latitude and longitude\n",
    "from citipy import citipy\n",
    "\n",
    "# Output File (CSV)\n",
    "# output_data_file = \"output_data/cities.csv\"\n",
    "\n",
    "# Range of latitudes and longitudes\n",
    "lat_range = (-90, 90)\n",
    "lng_range = (-180, 180)"
   ]
  },
  {
   "cell_type": "code",
   "execution_count": 6,
   "metadata": {},
   "outputs": [
    {
     "data": {
      "text/plain": [
       "603"
      ]
     },
     "execution_count": 6,
     "metadata": {},
     "output_type": "execute_result"
    }
   ],
   "source": [
    "# List for holding lat_lngs and cities\n",
    "lat_lngs = []\n",
    "cities = []\n",
    "\n",
    "# Create a set of random lat and lng combinations\n",
    "lats = np.random.uniform(lat_range[0], lat_range[1], size=1500)\n",
    "lngs = np.random.uniform(lng_range[0], lng_range[1], size=1500)\n",
    "lat_lngs = zip(lats, lngs)\n",
    "\n",
    "# Identify nearest city for each lat, lng combination\n",
    "for lat_lng in lat_lngs:\n",
    "    city = citipy.nearest_city(lat_lng[0], lat_lng[1]).city_name\n",
    "    \n",
    "    # If the city is unique, then add it to a our cities list\n",
    "    if city not in cities:\n",
    "        cities.append(city)\n",
    "\n",
    "# Print the city count to confirm sufficient count\n",
    "len(cities)"
   ]
  },
  {
   "cell_type": "markdown",
   "metadata": {},
   "source": [
    "### Perform API Calls\n",
    "* Perform a weather check on each city using a series of successive API calls.\n",
    "* Include a print log of each city as it'sbeing processed (with the city number and city name).\n"
   ]
  },
  {
   "cell_type": "code",
   "execution_count": 7,
   "metadata": {
    "scrolled": true
   },
   "outputs": [
    {
     "data": {
      "text/plain": [
       "{'coord': {'lon': -74.01, 'lat': 40.71},\n",
       " 'weather': [{'id': 804,\n",
       "   'main': 'Clouds',\n",
       "   'description': 'overcast clouds',\n",
       "   'icon': '04d'}],\n",
       " 'base': 'stations',\n",
       " 'main': {'temp': 64.04,\n",
       "  'feels_like': 62.56,\n",
       "  'temp_min': 62.6,\n",
       "  'temp_max': 66,\n",
       "  'pressure': 1021,\n",
       "  'humidity': 63},\n",
       " 'visibility': 10000,\n",
       " 'wind': {'speed': 3.36, 'deg': 0},\n",
       " 'clouds': {'all': 90},\n",
       " 'dt': 1602430766,\n",
       " 'sys': {'type': 1,\n",
       "  'id': 5141,\n",
       "  'country': 'US',\n",
       "  'sunrise': 1602414194,\n",
       "  'sunset': 1602454903},\n",
       " 'timezone': -14400,\n",
       " 'id': 5128581,\n",
       " 'name': 'New York',\n",
       " 'cod': 200}"
      ]
     },
     "execution_count": 7,
     "metadata": {},
     "output_type": "execute_result"
    }
   ],
   "source": [
    "# Make the API call try to limit with rate limiter or Max function\n",
    "url = \"http://api.openweathermap.org/data/2.5/weather?\"\n",
    "units = \"Imperial\"\n",
    "\n",
    "# Build query URL, rate limiter not working\n",
    "query_url = f\"{url}appid={weather_api_key}&units={units}&q=\"\n",
    "# rate_limiter = RateLimiter(max_calls=50, period=60)\n",
    "\n",
    "\n",
    "response = requests.get(query_url + \"New York\")\n",
    "city_data = response.json()\n",
    "city_data\n"
   ]
  },
  {
   "cell_type": "markdown",
   "metadata": {},
   "source": [
    "### Convert Raw Data to DataFrame\n",
    "* Export the city data into a .csv.\n",
    "* Display the DataFrame"
   ]
  },
  {
   "cell_type": "code",
   "execution_count": 8,
   "metadata": {},
   "outputs": [
    {
     "name": "stdout",
     "output_type": "stream",
     "text": [
      "Beginning Data Retrieval     \n",
      "-----------------------------\n",
      "Processing Record 1 of Set 1 | barrow\n",
      "Processing Record 2 of Set 1 | hermanus\n",
      "Processing Record 3 of Set 1 | tiksi\n",
      "Processing Record 4 of Set 1 | rawannawi\n",
      "City not found. Skipping...\n",
      "Processing Record 5 of Set 1 | atuona\n",
      "Processing Record 6 of Set 1 | katsuura\n",
      "Processing Record 7 of Set 1 | thompson\n",
      "Processing Record 8 of Set 1 | constitucion\n",
      "Processing Record 9 of Set 1 | kapaa\n",
      "Processing Record 10 of Set 1 | punta arenas\n",
      "Processing Record 11 of Set 1 | ciudad bolivar\n",
      "Processing Record 12 of Set 1 | provideniya\n",
      "Processing Record 13 of Set 1 | alofi\n",
      "Processing Record 14 of Set 1 | cape town\n",
      "Processing Record 15 of Set 1 | cherskiy\n",
      "Processing Record 16 of Set 1 | sinkat\n",
      "City not found. Skipping...\n",
      "Processing Record 17 of Set 1 | port elizabeth\n",
      "Processing Record 18 of Set 1 | illoqqortoormiut\n",
      "City not found. Skipping...\n",
      "Processing Record 19 of Set 1 | saint-joseph\n",
      "Processing Record 20 of Set 1 | victoria\n",
      "Processing Record 21 of Set 1 | avera\n",
      "Processing Record 22 of Set 1 | eureka\n",
      "Processing Record 23 of Set 1 | mataura\n",
      "Processing Record 24 of Set 1 | jamestown\n",
      "Processing Record 25 of Set 1 | urumqi\n",
      "Processing Record 26 of Set 1 | bredasdorp\n",
      "Processing Record 27 of Set 1 | mantua\n",
      "Processing Record 28 of Set 1 | thilogne\n",
      "City not found. Skipping...\n",
      "Processing Record 29 of Set 1 | freetown\n",
      "Processing Record 30 of Set 1 | doka\n",
      "Processing Record 31 of Set 1 | jawhar\n",
      "Processing Record 32 of Set 1 | petropavlovsk-kamchatskiy\n",
      "Processing Record 33 of Set 1 | turhal\n",
      "Processing Record 34 of Set 1 | morant bay\n",
      "Processing Record 35 of Set 1 | saldanha\n",
      "Processing Record 36 of Set 1 | charlestown\n",
      "Processing Record 37 of Set 1 | axim\n",
      "Processing Record 38 of Set 1 | riohacha\n",
      "Processing Record 39 of Set 1 | plomarion\n",
      "Processing Record 40 of Set 1 | sechura\n",
      "Processing Record 41 of Set 1 | chester\n",
      "Processing Record 42 of Set 1 | portland\n",
      "Processing Record 43 of Set 1 | tumannyy\n",
      "City not found. Skipping...\n",
      "Processing Record 44 of Set 1 | robat karim\n",
      "Processing Record 45 of Set 1 | tuatapere\n",
      "Processing Record 46 of Set 1 | barentsburg\n",
      "City not found. Skipping...\n",
      "Processing Record 47 of Set 1 | ushuaia\n",
      "Processing Record 48 of Set 1 | georgetown\n",
      "Processing Record 49 of Set 1 | nizhneyansk\n",
      "City not found. Skipping...\n",
      "Processing Record 50 of Set 1 | iquitos\n",
      "Processing Record 0 of Set 2 | poum\n",
      "Processing Record 1 of Set 2 | bluff\n",
      "Processing Record 2 of Set 2 | hithadhoo\n",
      "Processing Record 3 of Set 2 | caraz\n",
      "Processing Record 4 of Set 2 | araouane\n",
      "Processing Record 5 of Set 2 | am timan\n",
      "Processing Record 6 of Set 2 | hobart\n",
      "Processing Record 7 of Set 2 | puerto ayora\n",
      "Processing Record 8 of Set 2 | sao joao da barra\n",
      "Processing Record 9 of Set 2 | vaini\n",
      "Processing Record 10 of Set 2 | taolanaro\n",
      "City not found. Skipping...\n",
      "Processing Record 11 of Set 2 | sasykoli\n",
      "Processing Record 12 of Set 2 | juegang\n",
      "Processing Record 13 of Set 2 | butaritari\n",
      "Processing Record 14 of Set 2 | herat\n",
      "Processing Record 15 of Set 2 | lebu\n",
      "Processing Record 16 of Set 2 | leshukonskoye\n",
      "Processing Record 17 of Set 2 | almeirim\n",
      "Processing Record 18 of Set 2 | luderitz\n",
      "Processing Record 19 of Set 2 | grand gaube\n",
      "Processing Record 20 of Set 2 | vardo\n",
      "Processing Record 21 of Set 2 | kibala\n",
      "Processing Record 22 of Set 2 | vao\n",
      "Processing Record 23 of Set 2 | kiprinos\n",
      "City not found. Skipping...\n",
      "Processing Record 24 of Set 2 | haines junction\n",
      "Processing Record 25 of Set 2 | kaitangata\n",
      "Processing Record 26 of Set 2 | neuquen\n",
      "Processing Record 27 of Set 2 | moose factory\n",
      "Processing Record 28 of Set 2 | albany\n",
      "Processing Record 29 of Set 2 | ambilobe\n",
      "Processing Record 30 of Set 2 | santo antonio do leverger\n",
      "Processing Record 31 of Set 2 | pontalina\n",
      "Processing Record 32 of Set 2 | umzimvubu\n",
      "City not found. Skipping...\n",
      "Processing Record 33 of Set 2 | mosquera\n",
      "Processing Record 34 of Set 2 | rikitea\n",
      "Processing Record 35 of Set 2 | shelburne\n",
      "Processing Record 36 of Set 2 | puerto madryn\n",
      "Processing Record 37 of Set 2 | avarua\n",
      "Processing Record 38 of Set 2 | ribeira grande\n",
      "Processing Record 39 of Set 2 | hilo\n",
      "Processing Record 40 of Set 2 | lompoc\n",
      "Processing Record 41 of Set 2 | qaanaaq\n",
      "Processing Record 42 of Set 2 | coihaique\n",
      "Processing Record 43 of Set 2 | jacqueville\n",
      "Processing Record 44 of Set 2 | bethel\n",
      "Processing Record 45 of Set 2 | mount gambier\n",
      "Processing Record 46 of Set 2 | one hundred mile house\n",
      "City not found. Skipping...\n",
      "Processing Record 47 of Set 2 | dunedin\n",
      "Processing Record 48 of Set 2 | chuy\n",
      "Processing Record 49 of Set 2 | tefe\n",
      "Processing Record 0 of Set 3 | adrar\n",
      "Processing Record 1 of Set 3 | bara\n",
      "Processing Record 2 of Set 3 | boende\n",
      "Processing Record 3 of Set 3 | te anau\n",
      "Processing Record 4 of Set 3 | tuktoyaktuk\n",
      "Processing Record 5 of Set 3 | tsiroanomandidy\n",
      "Processing Record 6 of Set 3 | bardiyah\n",
      "Processing Record 7 of Set 3 | pimentel\n",
      "Processing Record 8 of Set 3 | vila\n",
      "Processing Record 9 of Set 3 | dikson\n",
      "Processing Record 10 of Set 3 | nikolskoye\n",
      "Processing Record 11 of Set 3 | inuvik\n",
      "Processing Record 12 of Set 3 | calbuco\n",
      "Processing Record 13 of Set 3 | chokurdakh\n",
      "Processing Record 14 of Set 3 | ryotsu\n",
      "Processing Record 15 of Set 3 | paradwip\n",
      "City not found. Skipping...\n",
      "Processing Record 16 of Set 3 | rizhao\n",
      "Processing Record 17 of Set 3 | baykit\n",
      "Processing Record 18 of Set 3 | pestravka\n",
      "Processing Record 19 of Set 3 | uwayl\n",
      "City not found. Skipping...\n",
      "Processing Record 20 of Set 3 | upernavik\n",
      "Processing Record 21 of Set 3 | east london\n",
      "Processing Record 22 of Set 3 | khatanga\n",
      "Processing Record 23 of Set 3 | ancud\n",
      "Processing Record 24 of Set 3 | rawson\n",
      "Processing Record 25 of Set 3 | klaksvik\n",
      "Processing Record 26 of Set 3 | makakilo city\n",
      "Processing Record 27 of Set 3 | nanortalik\n",
      "Processing Record 28 of Set 3 | chifeng\n",
      "Processing Record 29 of Set 3 | galgani\n",
      "City not found. Skipping...\n",
      "Processing Record 30 of Set 3 | shenzhen\n",
      "Processing Record 31 of Set 3 | coquimbo\n",
      "Processing Record 32 of Set 3 | santa luzia\n",
      "Processing Record 33 of Set 3 | khor\n",
      "Processing Record 34 of Set 3 | tual\n",
      "Processing Record 35 of Set 3 | aitape\n",
      "Processing Record 36 of Set 3 | port augusta\n",
      "Processing Record 37 of Set 3 | busselton\n",
      "Processing Record 38 of Set 3 | kodiak\n",
      "Processing Record 39 of Set 3 | port alfred\n",
      "Processing Record 40 of Set 3 | clyde river\n",
      "Processing Record 41 of Set 3 | mirnyy\n",
      "Processing Record 42 of Set 3 | batsfjord\n",
      "Processing Record 43 of Set 3 | garowe\n",
      "Processing Record 44 of Set 3 | nouadhibou\n",
      "Processing Record 45 of Set 3 | pine bluff\n",
      "Processing Record 46 of Set 3 | laguna\n",
      "Processing Record 47 of Set 3 | samusu\n",
      "City not found. Skipping...\n",
      "Processing Record 48 of Set 3 | mys shmidta\n",
      "City not found. Skipping...\n",
      "Processing Record 49 of Set 3 | coihueco\n",
      "Processing Record 0 of Set 4 | ostersund\n",
      "Processing Record 1 of Set 4 | longyearbyen\n",
      "Processing Record 2 of Set 4 | innisfail\n",
      "Processing Record 3 of Set 4 | halalo\n",
      "City not found. Skipping...\n",
      "Processing Record 4 of Set 4 | timizart\n",
      "Processing Record 5 of Set 4 | arraial do cabo\n",
      "Processing Record 6 of Set 4 | sioux lookout\n",
      "Processing Record 7 of Set 4 | terekli-mekteb\n",
      "Processing Record 8 of Set 4 | tautira\n",
      "Processing Record 9 of Set 4 | new norfolk\n",
      "Processing Record 10 of Set 4 | taoudenni\n",
      "Processing Record 11 of Set 4 | ilulissat\n",
      "Processing Record 12 of Set 4 | ukiah\n",
      "Processing Record 13 of Set 4 | scottsburgh\n",
      "City not found. Skipping...\n",
      "Processing Record 14 of Set 4 | asau\n",
      "Processing Record 15 of Set 4 | ler\n",
      "Processing Record 16 of Set 4 | kieta\n",
      "Processing Record 17 of Set 4 | solnechnyy\n",
      "Processing Record 18 of Set 4 | belushya guba\n",
      "City not found. Skipping...\n",
      "Processing Record 19 of Set 4 | shache\n",
      "Processing Record 20 of Set 4 | gat\n",
      "Processing Record 21 of Set 4 | havre-saint-pierre\n",
      "Processing Record 22 of Set 4 | kununurra\n",
      "Processing Record 23 of Set 4 | ponta do sol\n",
      "Processing Record 24 of Set 4 | geraldton\n",
      "Processing Record 25 of Set 4 | pisco\n",
      "Processing Record 26 of Set 4 | wichita falls\n",
      "Processing Record 27 of Set 4 | palabuhanratu\n",
      "City not found. Skipping...\n",
      "Processing Record 28 of Set 4 | de-kastri\n",
      "Processing Record 29 of Set 4 | puro\n",
      "Processing Record 30 of Set 4 | los llanos de aridane\n",
      "Processing Record 31 of Set 4 | tasiilaq\n",
      "Processing Record 32 of Set 4 | dwarka\n",
      "Processing Record 33 of Set 4 | taltal\n",
      "Processing Record 34 of Set 4 | dali\n",
      "Processing Record 35 of Set 4 | airai\n"
     ]
    },
    {
     "name": "stdout",
     "output_type": "stream",
     "text": [
      "Processing Record 36 of Set 4 | laem sing\n",
      "Processing Record 37 of Set 4 | leningradskiy\n",
      "Processing Record 38 of Set 4 | staryy nadym\n",
      "Processing Record 39 of Set 4 | rio grande\n",
      "Processing Record 40 of Set 4 | alice springs\n",
      "Processing Record 41 of Set 4 | sao filipe\n",
      "Processing Record 42 of Set 4 | rondonopolis\n",
      "Processing Record 43 of Set 4 | pyapon\n",
      "Processing Record 44 of Set 4 | san ramon\n",
      "Processing Record 45 of Set 4 | paysandu\n",
      "Processing Record 46 of Set 4 | bubaque\n",
      "Processing Record 47 of Set 4 | emba\n",
      "Processing Record 48 of Set 4 | saint george\n",
      "Processing Record 49 of Set 4 | cidreira\n",
      "Processing Record 0 of Set 5 | yantal\n",
      "Processing Record 1 of Set 5 | yanan\n",
      "City not found. Skipping...\n",
      "Processing Record 2 of Set 5 | kemijarvi\n",
      "Processing Record 3 of Set 5 | nizhneangarsk\n",
      "Processing Record 4 of Set 5 | bogolyubovo\n",
      "Processing Record 5 of Set 5 | madingou\n",
      "Processing Record 6 of Set 5 | belle fourche\n",
      "Processing Record 7 of Set 5 | la primavera\n",
      "Processing Record 8 of Set 5 | ghanzi\n",
      "Processing Record 9 of Set 5 | guerrero negro\n",
      "Processing Record 10 of Set 5 | abu dhabi\n",
      "Processing Record 11 of Set 5 | codrington\n",
      "Processing Record 12 of Set 5 | qasigiannguit\n",
      "Processing Record 13 of Set 5 | bilibino\n",
      "Processing Record 14 of Set 5 | praia da vitoria\n",
      "Processing Record 15 of Set 5 | la ronge\n",
      "Processing Record 16 of Set 5 | ambanja\n",
      "Processing Record 17 of Set 5 | tessalit\n",
      "Processing Record 18 of Set 5 | chernyshevskiy\n",
      "Processing Record 19 of Set 5 | saint-philippe\n",
      "Processing Record 20 of Set 5 | mahebourg\n",
      "Processing Record 21 of Set 5 | northam\n",
      "Processing Record 22 of Set 5 | okha\n",
      "Processing Record 23 of Set 5 | polunochnoye\n",
      "Processing Record 24 of Set 5 | anadyr\n",
      "Processing Record 25 of Set 5 | balkhash\n",
      "Processing Record 26 of Set 5 | opuwo\n",
      "Processing Record 27 of Set 5 | tagusao\n",
      "Processing Record 28 of Set 5 | mentok\n",
      "City not found. Skipping...\n",
      "Processing Record 29 of Set 5 | griffith\n",
      "Processing Record 30 of Set 5 | carnarvon\n",
      "Processing Record 31 of Set 5 | mrirt\n",
      "City not found. Skipping...\n",
      "Processing Record 32 of Set 5 | sovetsk\n",
      "Processing Record 33 of Set 5 | buchanan\n",
      "Processing Record 34 of Set 5 | puerto escondido\n",
      "Processing Record 35 of Set 5 | graham\n",
      "Processing Record 36 of Set 5 | paralimni\n",
      "Processing Record 37 of Set 5 | mutsamudu\n",
      "City not found. Skipping...\n",
      "Processing Record 38 of Set 5 | sentyabrskiy\n",
      "City not found. Skipping...\n",
      "Processing Record 39 of Set 5 | kamenskoye\n",
      "City not found. Skipping...\n",
      "Processing Record 40 of Set 5 | martapura\n",
      "Processing Record 41 of Set 5 | colesberg\n",
      "Processing Record 42 of Set 5 | zhigansk\n",
      "Processing Record 43 of Set 5 | jibuti\n",
      "Processing Record 44 of Set 5 | shingu\n",
      "Processing Record 45 of Set 5 | quesada\n",
      "Processing Record 46 of Set 5 | kloulklubed\n",
      "Processing Record 47 of Set 5 | grand river south east\n",
      "City not found. Skipping...\n",
      "Processing Record 48 of Set 5 | sola\n",
      "Processing Record 49 of Set 5 | lieksa\n",
      "Processing Record 0 of Set 6 | chopinzinho\n",
      "Processing Record 1 of Set 6 | alta floresta\n",
      "Processing Record 2 of Set 6 | ozgon\n",
      "City not found. Skipping...\n",
      "Processing Record 3 of Set 6 | luganville\n",
      "Processing Record 4 of Set 6 | jalu\n",
      "Processing Record 5 of Set 6 | smithers\n",
      "Processing Record 6 of Set 6 | launceston\n",
      "Processing Record 7 of Set 6 | tadine\n",
      "Processing Record 8 of Set 6 | itacarambi\n",
      "Processing Record 9 of Set 6 | korla\n",
      "Processing Record 10 of Set 6 | algiers\n",
      "Processing Record 11 of Set 6 | catuday\n",
      "Processing Record 12 of Set 6 | pangody\n",
      "Processing Record 13 of Set 6 | awbari\n",
      "Processing Record 14 of Set 6 | ozernovskiy\n",
      "Processing Record 15 of Set 6 | zunyi\n",
      "Processing Record 16 of Set 6 | markala\n",
      "Processing Record 17 of Set 6 | muros\n",
      "Processing Record 18 of Set 6 | castro\n",
      "Processing Record 19 of Set 6 | ahuimanu\n",
      "Processing Record 20 of Set 6 | evensk\n",
      "Processing Record 21 of Set 6 | fairbanks\n",
      "Processing Record 22 of Set 6 | severo-kurilsk\n",
      "Processing Record 23 of Set 6 | iqaluit\n",
      "Processing Record 24 of Set 6 | lavrentiya\n",
      "Processing Record 25 of Set 6 | pevek\n",
      "Processing Record 26 of Set 6 | cockburn town\n",
      "Processing Record 27 of Set 6 | andenes\n",
      "Processing Record 28 of Set 6 | banda aceh\n",
      "Processing Record 29 of Set 6 | huron\n",
      "Processing Record 30 of Set 6 | sulphur\n",
      "Processing Record 31 of Set 6 | daru\n",
      "Processing Record 32 of Set 6 | isangel\n",
      "Processing Record 33 of Set 6 | gao\n",
      "Processing Record 34 of Set 6 | maniitsoq\n",
      "Processing Record 35 of Set 6 | fortuna\n",
      "Processing Record 36 of Set 6 | srednekolymsk\n",
      "Processing Record 37 of Set 6 | cervo\n",
      "Processing Record 38 of Set 6 | aktau\n",
      "Processing Record 39 of Set 6 | mar del plata\n",
      "Processing Record 40 of Set 6 | saint-pierre\n",
      "Processing Record 41 of Set 6 | general roca\n",
      "Processing Record 42 of Set 6 | talnakh\n",
      "Processing Record 43 of Set 6 | espanola\n",
      "Processing Record 44 of Set 6 | vila franca do campo\n",
      "Processing Record 45 of Set 6 | teahupoo\n",
      "Processing Record 46 of Set 6 | kachikau\n",
      "City not found. Skipping...\n",
      "Processing Record 47 of Set 6 | waingapu\n",
      "Processing Record 48 of Set 6 | saskylakh\n",
      "Processing Record 49 of Set 6 | ocean city\n",
      "Processing Record 0 of Set 7 | dondo\n",
      "Processing Record 1 of Set 7 | maraa\n",
      "Processing Record 2 of Set 7 | hobyo\n",
      "Processing Record 3 of Set 7 | voh\n",
      "Processing Record 4 of Set 7 | waraseoni\n",
      "Processing Record 5 of Set 7 | okandja\n",
      "City not found. Skipping...\n",
      "Processing Record 6 of Set 7 | narsaq\n",
      "Processing Record 7 of Set 7 | senno\n",
      "Processing Record 8 of Set 7 | piedras negras\n",
      "Processing Record 9 of Set 7 | denpasar\n",
      "Processing Record 10 of Set 7 | vani\n",
      "Processing Record 11 of Set 7 | bud\n",
      "Processing Record 12 of Set 7 | laurel\n",
      "Processing Record 13 of Set 7 | mehamn\n",
      "Processing Record 14 of Set 7 | mogadishu\n",
      "Processing Record 15 of Set 7 | san patricio\n",
      "Processing Record 16 of Set 7 | henties bay\n",
      "Processing Record 17 of Set 7 | bambous virieux\n",
      "Processing Record 18 of Set 7 | mazagao\n",
      "Processing Record 19 of Set 7 | kato khorion\n",
      "Processing Record 20 of Set 7 | esperance\n",
      "Processing Record 21 of Set 7 | souillac\n",
      "Processing Record 22 of Set 7 | salinas\n",
      "Processing Record 23 of Set 7 | bulawayo\n",
      "Processing Record 24 of Set 7 | asyut\n",
      "Processing Record 25 of Set 7 | tsihombe\n",
      "City not found. Skipping...\n",
      "Processing Record 26 of Set 7 | gumdag\n",
      "Processing Record 27 of Set 7 | turukhansk\n",
      "Processing Record 28 of Set 7 | chagda\n",
      "City not found. Skipping...\n",
      "Processing Record 29 of Set 7 | norman wells\n",
      "Processing Record 30 of Set 7 | reconquista\n",
      "Processing Record 31 of Set 7 | bay-khaak\n",
      "Processing Record 32 of Set 7 | ramhormoz\n",
      "Processing Record 33 of Set 7 | yellowknife\n",
      "Processing Record 34 of Set 7 | kang\n",
      "Processing Record 35 of Set 7 | sabang\n",
      "Processing Record 36 of Set 7 | mayo\n",
      "Processing Record 37 of Set 7 | aquiraz\n",
      "Processing Record 38 of Set 7 | yerbogachen\n",
      "Processing Record 39 of Set 7 | rundu\n",
      "Processing Record 40 of Set 7 | labuhan\n",
      "Processing Record 41 of Set 7 | vaitupu\n",
      "City not found. Skipping...\n",
      "Processing Record 42 of Set 7 | malwan\n",
      "City not found. Skipping...\n",
      "Processing Record 43 of Set 7 | minatitlan\n",
      "Processing Record 44 of Set 7 | delijan\n",
      "Processing Record 45 of Set 7 | texas city\n",
      "Processing Record 46 of Set 7 | ust-maya\n",
      "Processing Record 47 of Set 7 | lakselv\n",
      "Processing Record 48 of Set 7 | jinchang\n",
      "Processing Record 49 of Set 7 | mezen\n",
      "Processing Record 0 of Set 8 | ugento\n",
      "Processing Record 1 of Set 8 | carlos chagas\n",
      "Processing Record 2 of Set 8 | namibe\n",
      "Processing Record 3 of Set 8 | zlitan\n",
      "Processing Record 4 of Set 8 | sri aman\n",
      "Processing Record 5 of Set 8 | vila velha\n",
      "Processing Record 6 of Set 8 | samarinda\n",
      "Processing Record 7 of Set 8 | tabialan\n",
      "City not found. Skipping...\n",
      "Processing Record 8 of Set 8 | ostrovnoy\n",
      "Processing Record 9 of Set 8 | kampong thum\n",
      "Processing Record 10 of Set 8 | rayong\n",
      "Processing Record 11 of Set 8 | ambunti\n",
      "Processing Record 12 of Set 8 | buala\n",
      "Processing Record 13 of Set 8 | faya\n",
      "Processing Record 14 of Set 8 | saint-augustin\n",
      "Processing Record 15 of Set 8 | salina cruz\n",
      "Processing Record 16 of Set 8 | acaponeta\n",
      "Processing Record 17 of Set 8 | vomp\n",
      "Processing Record 18 of Set 8 | tezu\n",
      "Processing Record 19 of Set 8 | saint-denis\n",
      "Processing Record 20 of Set 8 | george town\n",
      "Processing Record 21 of Set 8 | downers grove\n",
      "Processing Record 22 of Set 8 | barcelona\n",
      "Processing Record 23 of Set 8 | hambantota\n",
      "Processing Record 24 of Set 8 | astoria\n",
      "Processing Record 25 of Set 8 | bengkulu\n",
      "Processing Record 26 of Set 8 | manono\n"
     ]
    },
    {
     "name": "stdout",
     "output_type": "stream",
     "text": [
      "Processing Record 27 of Set 8 | nueva loja\n",
      "Processing Record 28 of Set 8 | jhudo\n",
      "Processing Record 29 of Set 8 | sindor\n",
      "Processing Record 30 of Set 8 | kahului\n",
      "Processing Record 31 of Set 8 | bandundu\n",
      "Processing Record 32 of Set 8 | davila\n",
      "Processing Record 33 of Set 8 | hofn\n",
      "Processing Record 34 of Set 8 | beloha\n",
      "Processing Record 35 of Set 8 | cheyenne\n",
      "Processing Record 36 of Set 8 | alyangula\n",
      "Processing Record 37 of Set 8 | gallipoli\n",
      "Processing Record 38 of Set 8 | qaqortoq\n",
      "Processing Record 39 of Set 8 | chute-aux-outardes\n",
      "Processing Record 40 of Set 8 | acapulco\n",
      "Processing Record 41 of Set 8 | borogontsy\n",
      "Processing Record 42 of Set 8 | riyadh\n",
      "Processing Record 43 of Set 8 | inhambane\n",
      "Processing Record 44 of Set 8 | yangambi\n",
      "Processing Record 45 of Set 8 | kabompo\n",
      "Processing Record 46 of Set 8 | gorgan\n",
      "Processing Record 47 of Set 8 | loukhi\n",
      "Processing Record 48 of Set 8 | avesta\n",
      "Processing Record 49 of Set 8 | sibay\n",
      "Processing Record 0 of Set 9 | porto novo\n",
      "Processing Record 1 of Set 9 | tabriz\n",
      "Processing Record 2 of Set 9 | yarada\n",
      "Processing Record 3 of Set 9 | port macquarie\n",
      "Processing Record 4 of Set 9 | garden city\n",
      "Processing Record 5 of Set 9 | lagoa\n",
      "Processing Record 6 of Set 9 | ordzhonikidzevskaya\n",
      "Processing Record 7 of Set 9 | krasnyye baki\n",
      "Processing Record 8 of Set 9 | ust-nera\n",
      "Processing Record 9 of Set 9 | mossendjo\n",
      "Processing Record 10 of Set 9 | lasa\n",
      "Processing Record 11 of Set 9 | saleaula\n",
      "City not found. Skipping...\n",
      "Processing Record 12 of Set 9 | eidfjord\n",
      "Processing Record 13 of Set 9 | hasaki\n",
      "Processing Record 14 of Set 9 | susanville\n",
      "Processing Record 15 of Set 9 | abu zabad\n",
      "Processing Record 16 of Set 9 | kaohsiung\n",
      "Processing Record 17 of Set 9 | hami\n",
      "Processing Record 18 of Set 9 | belmonte\n",
      "Processing Record 19 of Set 9 | starokozache\n",
      "Processing Record 20 of Set 9 | road town\n",
      "Processing Record 21 of Set 9 | kavieng\n",
      "Processing Record 22 of Set 9 | pervomayskoye\n",
      "Processing Record 23 of Set 9 | gangapur\n",
      "Processing Record 24 of Set 9 | aflu\n",
      "City not found. Skipping...\n",
      "Processing Record 25 of Set 9 | menfi\n",
      "Processing Record 26 of Set 9 | simoes\n",
      "Processing Record 27 of Set 9 | nyimba\n",
      "Processing Record 28 of Set 9 | nizhniy odes\n",
      "Processing Record 29 of Set 9 | anderson\n",
      "Processing Record 30 of Set 9 | ouallam\n",
      "Processing Record 31 of Set 9 | broken hill\n",
      "Processing Record 32 of Set 9 | petropavlovka\n",
      "Processing Record 33 of Set 9 | nemuro\n",
      "Processing Record 34 of Set 9 | komatipoort\n",
      "Processing Record 35 of Set 9 | berlevag\n",
      "Processing Record 36 of Set 9 | bathsheba\n",
      "Processing Record 37 of Set 9 | uzhur\n",
      "Processing Record 38 of Set 9 | amderma\n",
      "City not found. Skipping...\n",
      "Processing Record 39 of Set 9 | sorvag\n",
      "City not found. Skipping...\n",
      "Processing Record 40 of Set 9 | fayetteville\n",
      "Processing Record 41 of Set 9 | nantucket\n",
      "Processing Record 42 of Set 9 | guymon\n",
      "Processing Record 43 of Set 9 | vestmannaeyjar\n",
      "Processing Record 44 of Set 9 | saint anthony\n",
      "Processing Record 45 of Set 9 | tostamaa\n",
      "City not found. Skipping...\n",
      "Processing Record 46 of Set 9 | banepa\n",
      "Processing Record 47 of Set 9 | hirara\n",
      "Processing Record 48 of Set 9 | gangotri\n",
      "City not found. Skipping...\n",
      "Processing Record 49 of Set 9 | lyngseidet\n",
      "Processing Record 0 of Set 10 | lokken verk\n",
      "City not found. Skipping...\n",
      "Processing Record 1 of Set 10 | zurrieq\n",
      "Processing Record 2 of Set 10 | tura\n",
      "Processing Record 3 of Set 10 | gairo\n",
      "Processing Record 4 of Set 10 | kudahuvadhoo\n",
      "Processing Record 5 of Set 10 | hualmay\n",
      "Processing Record 6 of Set 10 | dubovskoye\n",
      "Processing Record 7 of Set 10 | valparaiso\n",
      "Processing Record 8 of Set 10 | progreso\n",
      "Processing Record 9 of Set 10 | bereda\n",
      "Processing Record 10 of Set 10 | krasnyy luch\n",
      "Processing Record 11 of Set 10 | nouakchott\n",
      "Processing Record 12 of Set 10 | burg\n",
      "Processing Record 13 of Set 10 | coahuayana\n",
      "Processing Record 14 of Set 10 | huarmey\n",
      "Processing Record 15 of Set 10 | dossor\n",
      "Processing Record 16 of Set 10 | port said\n",
      "Processing Record 17 of Set 10 | ahipara\n",
      "Processing Record 18 of Set 10 | dhidhdhoo\n",
      "Processing Record 19 of Set 10 | pochutla\n",
      "Processing Record 20 of Set 10 | yulara\n",
      "Processing Record 21 of Set 10 | pacific grove\n",
      "Processing Record 22 of Set 10 | strezhevoy\n",
      "Processing Record 23 of Set 10 | bandarbeyla\n",
      "Processing Record 24 of Set 10 | gurlan\n",
      "Processing Record 25 of Set 10 | sorland\n",
      "Processing Record 26 of Set 10 | machilipatnam\n",
      "Processing Record 27 of Set 10 | faanui\n",
      "Processing Record 28 of Set 10 | sistranda\n",
      "Processing Record 29 of Set 10 | qui nhon\n",
      "Processing Record 30 of Set 10 | lazaro cardenas\n",
      "Processing Record 31 of Set 10 | naze\n",
      "Processing Record 32 of Set 10 | iwakuni\n",
      "Processing Record 33 of Set 10 | broome\n",
      "Processing Record 34 of Set 10 | lancaster\n",
      "Processing Record 35 of Set 10 | bolungarvik\n",
      "City not found. Skipping...\n",
      "Processing Record 36 of Set 10 | tynda\n",
      "Processing Record 37 of Set 10 | dingle\n",
      "Processing Record 38 of Set 10 | monte santo\n",
      "Processing Record 39 of Set 10 | bull savanna\n",
      "Processing Record 40 of Set 10 | harper\n",
      "Processing Record 41 of Set 10 | viedma\n",
      "Processing Record 42 of Set 10 | kysyl-syr\n",
      "Processing Record 43 of Set 10 | riverton\n",
      "Processing Record 44 of Set 10 | tucuman\n",
      "Processing Record 45 of Set 10 | auki\n",
      "Processing Record 46 of Set 10 | yarmouth\n",
      "Processing Record 47 of Set 10 | xiaolingwei\n",
      "Processing Record 48 of Set 10 | aranda de duero\n",
      "Processing Record 49 of Set 10 | nuuk\n",
      "Processing Record 0 of Set 11 | nanakuli\n",
      "Processing Record 1 of Set 11 | haibowan\n",
      "City not found. Skipping...\n",
      "Processing Record 2 of Set 11 | cozumel\n",
      "Processing Record 3 of Set 11 | la cruz\n",
      "Processing Record 4 of Set 11 | mweka\n",
      "Processing Record 5 of Set 11 | san cristobal\n",
      "Processing Record 6 of Set 11 | yellamanchili\n",
      "City not found. Skipping...\n",
      "Processing Record 7 of Set 11 | benguela\n",
      "Processing Record 8 of Set 11 | aykhal\n",
      "Processing Record 9 of Set 11 | calvinia\n",
      "Processing Record 10 of Set 11 | matara\n",
      "Processing Record 11 of Set 11 | vostok\n",
      "Processing Record 12 of Set 11 | labuan\n",
      "Processing Record 13 of Set 11 | yuci\n",
      "Processing Record 14 of Set 11 | roblin\n",
      "Processing Record 15 of Set 11 | monrovia\n",
      "Processing Record 16 of Set 11 | goure\n",
      "Processing Record 17 of Set 11 | miri\n",
      "Processing Record 18 of Set 11 | fort nelson\n",
      "Processing Record 19 of Set 11 | bokspits\n",
      "City not found. Skipping...\n",
      "Processing Record 20 of Set 11 | krasnoselkup\n",
      "Processing Record 21 of Set 11 | gravdal\n",
      "Processing Record 22 of Set 11 | zonguldak\n",
      "Processing Record 23 of Set 11 | half moon bay\n",
      "Processing Record 24 of Set 11 | atambua\n",
      "Processing Record 25 of Set 11 | quelimane\n",
      "Processing Record 26 of Set 11 | zaysan\n",
      "Processing Record 27 of Set 11 | mayumba\n",
      "Processing Record 28 of Set 11 | pangnirtung\n",
      "Processing Record 29 of Set 11 | tigre\n",
      "Processing Record 30 of Set 11 | sisimiut\n",
      "Processing Record 31 of Set 11 | kyra\n",
      "Processing Record 32 of Set 11 | bonavista\n",
      "Processing Record 33 of Set 11 | aklavik\n",
      "Processing Record 34 of Set 11 | cairns\n",
      "Processing Record 35 of Set 11 | ilam\n",
      "Processing Record 36 of Set 11 | rorvik\n",
      "Processing Record 37 of Set 11 | hagi\n",
      "Processing Record 38 of Set 11 | homer\n",
      "Processing Record 39 of Set 11 | gobabis\n",
      "Processing Record 40 of Set 11 | torbay\n",
      "Processing Record 41 of Set 11 | puerto montt\n",
      "Processing Record 42 of Set 11 | iralaya\n",
      "Processing Record 43 of Set 11 | cascais\n",
      "Processing Record 44 of Set 11 | ayios matthaios\n",
      "City not found. Skipping...\n",
      "Processing Record 45 of Set 11 | imeni poliny osipenko\n",
      "Processing Record 46 of Set 11 | sovetskiy\n",
      "Processing Record 47 of Set 11 | sitka\n",
      "Processing Record 48 of Set 11 | busembatia\n",
      "Processing Record 49 of Set 11 | samarai\n",
      "Processing Record 0 of Set 12 | mto wa mbu\n",
      "Processing Record 1 of Set 12 | port-gentil\n",
      "Processing Record 2 of Set 12 | maceio\n",
      "Processing Record 3 of Set 12 | muisne\n",
      "Processing Record 4 of Set 12 | harnosand\n",
      "Processing Record 5 of Set 12 | mazyr\n",
      "Processing Record 6 of Set 12 | merauke\n",
      "Processing Record 7 of Set 12 | providencia\n",
      "Processing Record 8 of Set 12 | cacu\n",
      "Processing Record 9 of Set 12 | termoli\n",
      "Processing Record 10 of Set 12 | dibaya\n",
      "City not found. Skipping...\n",
      "Processing Record 11 of Set 12 | attawapiskat\n",
      "City not found. Skipping...\n",
      "Processing Record 12 of Set 12 | nosy varika\n",
      "Processing Record 13 of Set 12 | meulaboh\n",
      "Processing Record 14 of Set 12 | port hardy\n"
     ]
    },
    {
     "name": "stdout",
     "output_type": "stream",
     "text": [
      "Processing Record 15 of Set 12 | esna\n",
      "Processing Record 16 of Set 12 | huanren\n",
      "Processing Record 17 of Set 12 | jambi\n",
      "Processing Record 18 of Set 12 | kirensk\n",
      "Processing Record 19 of Set 12 | vangaindrano\n",
      "Processing Record 20 of Set 12 | payyannur\n",
      "Processing Record 21 of Set 12 | nieuw amsterdam\n",
      "Processing Record 22 of Set 12 | bafq\n",
      "Processing Record 23 of Set 12 | cortez\n",
      "Processing Record 24 of Set 12 | la campana\n",
      "Processing Record 25 of Set 12 | mount isa\n",
      "Processing Record 26 of Set 12 | port lincoln\n",
      "Processing Record 27 of Set 12 | soyo\n",
      "Processing Record 28 of Set 12 | mayor pablo lagerenza\n",
      "Processing Record 29 of Set 12 | cavalcante\n",
      "Processing Record 30 of Set 12 | cabatuan\n",
      "Processing Record 31 of Set 12 | beringovskiy\n",
      "Processing Record 32 of Set 12 | piterka\n",
      "Processing Record 33 of Set 12 | tabuk\n",
      "Processing Record 34 of Set 12 | dargaville\n",
      "Processing Record 35 of Set 12 | marsa matruh\n",
      "Processing Record 36 of Set 12 | olinda\n",
      "Processing Record 37 of Set 12 | fare\n",
      "Processing Record 38 of Set 12 | dudinka\n",
      "Processing Record 39 of Set 12 | el balyana\n",
      "City not found. Skipping...\n",
      "Processing Record 40 of Set 12 | sindand\n",
      "City not found. Skipping...\n",
      "Processing Record 41 of Set 12 | kiama\n",
      "Processing Record 42 of Set 12 | port-cartier\n",
      "Processing Record 43 of Set 12 | ballina\n",
      "Processing Record 44 of Set 12 | kruisfontein\n",
      "Processing Record 45 of Set 12 | husavik\n",
      "Processing Record 46 of Set 12 | pietarsaari\n",
      "Processing Record 47 of Set 12 | dongsheng\n",
      "Processing Record 48 of Set 12 | grindavik\n",
      "Processing Record 49 of Set 12 | westport\n",
      "Processing Record 0 of Set 13 | richards bay\n",
      "Processing Record 1 of Set 13 | udalguri\n",
      "Processing Record 2 of Set 13 | arkhara\n",
      "-----------------------------\n",
      "Data Retrieval Complete      \n",
      "-----------------------------\n"
     ]
    }
   ],
   "source": [
    "# Starting URL for Weather Map API Call\n",
    "url = \"http://api.openweathermap.org/data/2.5/weather?units=Imperial&APPID=\" + weather_api_key\n",
    "\n",
    "# List of city data\n",
    "city_data = []\n",
    "\n",
    "# Print to logger\n",
    "print(\"Beginning Data Retrieval     \")\n",
    "print(\"-----------------------------\")\n",
    "\n",
    "# Create counters\n",
    "record_count = 1\n",
    "set_count = 1\n",
    "\n",
    "# Loop through all the cities in our list\n",
    "for i, city in enumerate(cities):\n",
    "        \n",
    "    # Group cities in sets of 50 for logging purposes\n",
    "    if (i % 50 == 0 and i >= 50):\n",
    "        set_count += 1\n",
    "        record_count = 0\n",
    "\n",
    "    # Create endpoint URL with each city\n",
    "    city_url = url + \"&q=\" + city\n",
    "    \n",
    "    # Log the url, record, and set numbers\n",
    "    print(\"Processing Record %s of Set %s | %s\" % (record_count, set_count, city))\n",
    "\n",
    "    # Add 1 to the record count\n",
    "    record_count += 1\n",
    "\n",
    "    # Run an API request for each of the cities\n",
    "    try:\n",
    "        # Parse the JSON and retrieve data\n",
    "        city_weather = requests.get(city_url).json()\n",
    "\n",
    "        # Parse out the max temp, humidity, and cloudiness\n",
    "        city_lat = city_weather[\"coord\"][\"lat\"]\n",
    "        city_lng = city_weather[\"coord\"][\"lon\"]\n",
    "        city_max_temp = city_weather[\"main\"][\"temp_max\"]\n",
    "        city_humidity = city_weather[\"main\"][\"humidity\"]\n",
    "        city_clouds = city_weather[\"clouds\"][\"all\"]\n",
    "        city_wind = city_weather[\"wind\"][\"speed\"]\n",
    "        city_country = city_weather[\"sys\"][\"country\"]\n",
    "        city_date = city_weather[\"dt\"]\n",
    "\n",
    "        # Append the City information into city_data list\n",
    "        city_data.append({\"City\": city, \n",
    "                          \"Lat\": city_lat, \n",
    "                          \"Lng\": city_lng, \n",
    "                          \"Max Temp\": city_max_temp,\n",
    "                          \"Humidity\": city_humidity,\n",
    "                          \"Cloudiness\": city_clouds,\n",
    "                          \"Wind Speed\": city_wind,\n",
    "                          \"Country\": city_country,\n",
    "                          \"Date\": city_date})\n",
    "\n",
    "    # If an error is experienced, skip the city\n",
    "    except:\n",
    "        print(\"City not found. Skipping...\")\n",
    "        pass\n",
    "              \n",
    "# Indicate that Data Loading is complete \n",
    "print(\"-----------------------------\")\n",
    "print(\"Data Retrieval Complete      \")\n",
    "print(\"-----------------------------\")"
   ]
  },
  {
   "cell_type": "code",
   "execution_count": null,
   "metadata": {},
   "outputs": [],
   "source": []
  },
  {
   "cell_type": "markdown",
   "metadata": {},
   "source": [
    "## Inspect the data and remove the cities where the humidity > 100%.\n",
    "----\n",
    "Skip this step if there are no cities that have humidity > 100%. "
   ]
  },
  {
   "cell_type": "code",
   "execution_count": 9,
   "metadata": {},
   "outputs": [
    {
     "data": {
      "text/html": [
       "<div>\n",
       "<style scoped>\n",
       "    .dataframe tbody tr th:only-of-type {\n",
       "        vertical-align: middle;\n",
       "    }\n",
       "\n",
       "    .dataframe tbody tr th {\n",
       "        vertical-align: top;\n",
       "    }\n",
       "\n",
       "    .dataframe thead th {\n",
       "        text-align: right;\n",
       "    }\n",
       "</style>\n",
       "<table border=\"1\" class=\"dataframe\">\n",
       "  <thead>\n",
       "    <tr style=\"text-align: right;\">\n",
       "      <th></th>\n",
       "      <th>City</th>\n",
       "      <th>Lat</th>\n",
       "      <th>Lng</th>\n",
       "      <th>Max Temp</th>\n",
       "      <th>Humidity</th>\n",
       "      <th>Cloudiness</th>\n",
       "      <th>Wind Speed</th>\n",
       "      <th>Country</th>\n",
       "      <th>Date</th>\n",
       "    </tr>\n",
       "  </thead>\n",
       "  <tbody>\n",
       "    <tr>\n",
       "      <th>0</th>\n",
       "      <td>barrow</td>\n",
       "      <td>71.29</td>\n",
       "      <td>-156.79</td>\n",
       "      <td>24.80</td>\n",
       "      <td>68</td>\n",
       "      <td>90</td>\n",
       "      <td>17.22</td>\n",
       "      <td>US</td>\n",
       "      <td>1602430919</td>\n",
       "    </tr>\n",
       "    <tr>\n",
       "      <th>1</th>\n",
       "      <td>hermanus</td>\n",
       "      <td>-34.42</td>\n",
       "      <td>19.23</td>\n",
       "      <td>64.99</td>\n",
       "      <td>53</td>\n",
       "      <td>99</td>\n",
       "      <td>10.00</td>\n",
       "      <td>ZA</td>\n",
       "      <td>1602430959</td>\n",
       "    </tr>\n",
       "    <tr>\n",
       "      <th>2</th>\n",
       "      <td>tiksi</td>\n",
       "      <td>71.69</td>\n",
       "      <td>128.87</td>\n",
       "      <td>12.00</td>\n",
       "      <td>94</td>\n",
       "      <td>46</td>\n",
       "      <td>9.28</td>\n",
       "      <td>RU</td>\n",
       "      <td>1602430959</td>\n",
       "    </tr>\n",
       "    <tr>\n",
       "      <th>3</th>\n",
       "      <td>atuona</td>\n",
       "      <td>-9.80</td>\n",
       "      <td>-139.03</td>\n",
       "      <td>78.26</td>\n",
       "      <td>72</td>\n",
       "      <td>24</td>\n",
       "      <td>24.49</td>\n",
       "      <td>PF</td>\n",
       "      <td>1602430959</td>\n",
       "    </tr>\n",
       "    <tr>\n",
       "      <th>4</th>\n",
       "      <td>katsuura</td>\n",
       "      <td>35.13</td>\n",
       "      <td>140.30</td>\n",
       "      <td>68.00</td>\n",
       "      <td>88</td>\n",
       "      <td>75</td>\n",
       "      <td>13.87</td>\n",
       "      <td>JP</td>\n",
       "      <td>1602430959</td>\n",
       "    </tr>\n",
       "  </tbody>\n",
       "</table>\n",
       "</div>"
      ],
      "text/plain": [
       "       City    Lat     Lng  Max Temp  Humidity  Cloudiness  Wind Speed  \\\n",
       "0    barrow  71.29 -156.79     24.80        68          90       17.22   \n",
       "1  hermanus -34.42   19.23     64.99        53          99       10.00   \n",
       "2     tiksi  71.69  128.87     12.00        94          46        9.28   \n",
       "3    atuona  -9.80 -139.03     78.26        72          24       24.49   \n",
       "4  katsuura  35.13  140.30     68.00        88          75       13.87   \n",
       "\n",
       "  Country        Date  \n",
       "0      US  1602430919  \n",
       "1      ZA  1602430959  \n",
       "2      RU  1602430959  \n",
       "3      PF  1602430959  \n",
       "4      JP  1602430959  "
      ]
     },
     "execution_count": 9,
     "metadata": {},
     "output_type": "execute_result"
    }
   ],
   "source": [
    "# Convert the array of dictionaries to a Pandas DataFrame.\n",
    "city_data_df = pd.DataFrame(city_data)\n",
    "city_data_df.head()"
   ]
  },
  {
   "cell_type": "code",
   "execution_count": 10,
   "metadata": {},
   "outputs": [
    {
     "data": {
      "text/plain": [
       "100"
      ]
     },
     "execution_count": 10,
     "metadata": {},
     "output_type": "execute_result"
    }
   ],
   "source": [
    "#  Get the indices of cities that have humidity over 100%.\n",
    "\n",
    "humidity_max = city_data_df[\"Humidity\"].max()\n",
    "humidity_max"
   ]
  },
  {
   "cell_type": "code",
   "execution_count": 11,
   "metadata": {},
   "outputs": [
    {
     "data": {
      "text/html": [
       "<div>\n",
       "<style scoped>\n",
       "    .dataframe tbody tr th:only-of-type {\n",
       "        vertical-align: middle;\n",
       "    }\n",
       "\n",
       "    .dataframe tbody tr th {\n",
       "        vertical-align: top;\n",
       "    }\n",
       "\n",
       "    .dataframe thead th {\n",
       "        text-align: right;\n",
       "    }\n",
       "</style>\n",
       "<table border=\"1\" class=\"dataframe\">\n",
       "  <thead>\n",
       "    <tr style=\"text-align: right;\">\n",
       "      <th></th>\n",
       "      <th>City</th>\n",
       "      <th>Lat</th>\n",
       "      <th>Lng</th>\n",
       "      <th>Max Temp</th>\n",
       "      <th>Humidity</th>\n",
       "      <th>Cloudiness</th>\n",
       "      <th>Wind Speed</th>\n",
       "      <th>Country</th>\n",
       "      <th>Date</th>\n",
       "    </tr>\n",
       "  </thead>\n",
       "  <tbody>\n",
       "  </tbody>\n",
       "</table>\n",
       "</div>"
      ],
      "text/plain": [
       "Empty DataFrame\n",
       "Columns: [City, Lat, Lng, Max Temp, Humidity, Cloudiness, Wind Speed, Country, Date]\n",
       "Index: []"
      ]
     },
     "execution_count": 11,
     "metadata": {},
     "output_type": "execute_result"
    }
   ],
   "source": [
    "#  Get the indices of cities that have humidity over 100%.\n",
    "city_data_df[city_data_df.Humidity > 100]"
   ]
  },
  {
   "cell_type": "code",
   "execution_count": 12,
   "metadata": {},
   "outputs": [
    {
     "data": {
      "text/html": [
       "<div>\n",
       "<style scoped>\n",
       "    .dataframe tbody tr th:only-of-type {\n",
       "        vertical-align: middle;\n",
       "    }\n",
       "\n",
       "    .dataframe tbody tr th {\n",
       "        vertical-align: top;\n",
       "    }\n",
       "\n",
       "    .dataframe thead th {\n",
       "        text-align: right;\n",
       "    }\n",
       "</style>\n",
       "<table border=\"1\" class=\"dataframe\">\n",
       "  <thead>\n",
       "    <tr style=\"text-align: right;\">\n",
       "      <th></th>\n",
       "      <th>City</th>\n",
       "      <th>Lat</th>\n",
       "      <th>Lng</th>\n",
       "      <th>Max Temp</th>\n",
       "      <th>Humidity</th>\n",
       "      <th>Cloudiness</th>\n",
       "      <th>Wind Speed</th>\n",
       "      <th>Country</th>\n",
       "      <th>Date</th>\n",
       "    </tr>\n",
       "  </thead>\n",
       "  <tbody>\n",
       "    <tr>\n",
       "      <th>0</th>\n",
       "      <td>barrow</td>\n",
       "      <td>71.29</td>\n",
       "      <td>-156.79</td>\n",
       "      <td>24.80</td>\n",
       "      <td>68</td>\n",
       "      <td>90</td>\n",
       "      <td>17.22</td>\n",
       "      <td>US</td>\n",
       "      <td>1602430919</td>\n",
       "    </tr>\n",
       "    <tr>\n",
       "      <th>1</th>\n",
       "      <td>hermanus</td>\n",
       "      <td>-34.42</td>\n",
       "      <td>19.23</td>\n",
       "      <td>64.99</td>\n",
       "      <td>53</td>\n",
       "      <td>99</td>\n",
       "      <td>10.00</td>\n",
       "      <td>ZA</td>\n",
       "      <td>1602430959</td>\n",
       "    </tr>\n",
       "    <tr>\n",
       "      <th>2</th>\n",
       "      <td>tiksi</td>\n",
       "      <td>71.69</td>\n",
       "      <td>128.87</td>\n",
       "      <td>12.00</td>\n",
       "      <td>94</td>\n",
       "      <td>46</td>\n",
       "      <td>9.28</td>\n",
       "      <td>RU</td>\n",
       "      <td>1602430959</td>\n",
       "    </tr>\n",
       "    <tr>\n",
       "      <th>3</th>\n",
       "      <td>atuona</td>\n",
       "      <td>-9.80</td>\n",
       "      <td>-139.03</td>\n",
       "      <td>78.26</td>\n",
       "      <td>72</td>\n",
       "      <td>24</td>\n",
       "      <td>24.49</td>\n",
       "      <td>PF</td>\n",
       "      <td>1602430959</td>\n",
       "    </tr>\n",
       "    <tr>\n",
       "      <th>4</th>\n",
       "      <td>katsuura</td>\n",
       "      <td>35.13</td>\n",
       "      <td>140.30</td>\n",
       "      <td>68.00</td>\n",
       "      <td>88</td>\n",
       "      <td>75</td>\n",
       "      <td>13.87</td>\n",
       "      <td>JP</td>\n",
       "      <td>1602430959</td>\n",
       "    </tr>\n",
       "    <tr>\n",
       "      <th>...</th>\n",
       "      <td>...</td>\n",
       "      <td>...</td>\n",
       "      <td>...</td>\n",
       "      <td>...</td>\n",
       "      <td>...</td>\n",
       "      <td>...</td>\n",
       "      <td>...</td>\n",
       "      <td>...</td>\n",
       "      <td>...</td>\n",
       "    </tr>\n",
       "    <tr>\n",
       "      <th>547</th>\n",
       "      <td>grindavik</td>\n",
       "      <td>63.84</td>\n",
       "      <td>-22.43</td>\n",
       "      <td>46.40</td>\n",
       "      <td>87</td>\n",
       "      <td>75</td>\n",
       "      <td>6.93</td>\n",
       "      <td>IS</td>\n",
       "      <td>1602430999</td>\n",
       "    </tr>\n",
       "    <tr>\n",
       "      <th>548</th>\n",
       "      <td>westport</td>\n",
       "      <td>41.14</td>\n",
       "      <td>-73.36</td>\n",
       "      <td>66.20</td>\n",
       "      <td>52</td>\n",
       "      <td>1</td>\n",
       "      <td>11.41</td>\n",
       "      <td>US</td>\n",
       "      <td>1602430742</td>\n",
       "    </tr>\n",
       "    <tr>\n",
       "      <th>549</th>\n",
       "      <td>richards bay</td>\n",
       "      <td>-28.78</td>\n",
       "      <td>32.04</td>\n",
       "      <td>62.53</td>\n",
       "      <td>71</td>\n",
       "      <td>100</td>\n",
       "      <td>7.05</td>\n",
       "      <td>ZA</td>\n",
       "      <td>1602430999</td>\n",
       "    </tr>\n",
       "    <tr>\n",
       "      <th>550</th>\n",
       "      <td>udalguri</td>\n",
       "      <td>26.77</td>\n",
       "      <td>92.13</td>\n",
       "      <td>79.02</td>\n",
       "      <td>80</td>\n",
       "      <td>3</td>\n",
       "      <td>3.44</td>\n",
       "      <td>IN</td>\n",
       "      <td>1602430999</td>\n",
       "    </tr>\n",
       "    <tr>\n",
       "      <th>551</th>\n",
       "      <td>arkhara</td>\n",
       "      <td>49.42</td>\n",
       "      <td>130.08</td>\n",
       "      <td>38.32</td>\n",
       "      <td>77</td>\n",
       "      <td>5</td>\n",
       "      <td>8.05</td>\n",
       "      <td>RU</td>\n",
       "      <td>1602430999</td>\n",
       "    </tr>\n",
       "  </tbody>\n",
       "</table>\n",
       "<p>533 rows × 9 columns</p>\n",
       "</div>"
      ],
      "text/plain": [
       "             City    Lat     Lng  Max Temp  Humidity  Cloudiness  Wind Speed  \\\n",
       "0          barrow  71.29 -156.79     24.80        68          90       17.22   \n",
       "1        hermanus -34.42   19.23     64.99        53          99       10.00   \n",
       "2           tiksi  71.69  128.87     12.00        94          46        9.28   \n",
       "3          atuona  -9.80 -139.03     78.26        72          24       24.49   \n",
       "4        katsuura  35.13  140.30     68.00        88          75       13.87   \n",
       "..            ...    ...     ...       ...       ...         ...         ...   \n",
       "547     grindavik  63.84  -22.43     46.40        87          75        6.93   \n",
       "548      westport  41.14  -73.36     66.20        52           1       11.41   \n",
       "549  richards bay -28.78   32.04     62.53        71         100        7.05   \n",
       "550      udalguri  26.77   92.13     79.02        80           3        3.44   \n",
       "551       arkhara  49.42  130.08     38.32        77           5        8.05   \n",
       "\n",
       "    Country        Date  \n",
       "0        US  1602430919  \n",
       "1        ZA  1602430959  \n",
       "2        RU  1602430959  \n",
       "3        PF  1602430959  \n",
       "4        JP  1602430959  \n",
       "..      ...         ...  \n",
       "547      IS  1602430999  \n",
       "548      US  1602430742  \n",
       "549      ZA  1602430999  \n",
       "550      IN  1602430999  \n",
       "551      RU  1602430999  \n",
       "\n",
       "[533 rows x 9 columns]"
      ]
     },
     "execution_count": 12,
     "metadata": {},
     "output_type": "execute_result"
    }
   ],
   "source": [
    "# Make a new DataFrame equal to the city data to drop all humidity outliers by index.\n",
    "# Passing \"inplace=False\" will make a copy of the city_data DataFrame, which we call \"clean_city_data\".\n",
    "\n",
    "clean_city_data = city_data_df[city_data_df.Humidity < 100]\n",
    "clean_city_data"
   ]
  },
  {
   "cell_type": "code",
   "execution_count": 13,
   "metadata": {},
   "outputs": [
    {
     "data": {
      "text/plain": [
       "99"
      ]
     },
     "execution_count": 13,
     "metadata": {},
     "output_type": "execute_result"
    }
   ],
   "source": [
    "# Max humidity columns greate than 100 have been removed\n",
    "\n",
    "humidity_max = clean_city_data[\"Humidity\"].max()\n",
    "humidity_max"
   ]
  },
  {
   "cell_type": "code",
   "execution_count": 14,
   "metadata": {},
   "outputs": [],
   "source": [
    "# Export csv file\n",
    "clean_city_data.to_csv('clean_city_data.csv')\n",
    "# clean_city_data.to_csv('clean_city_data.csv', index=False)"
   ]
  },
  {
   "cell_type": "code",
   "execution_count": null,
   "metadata": {},
   "outputs": [],
   "source": []
  },
  {
   "cell_type": "markdown",
   "metadata": {},
   "source": [
    "## Plotting the Data\n",
    "* Use proper labeling of the plots using plot titles (including date of analysis) and axes labels.\n",
    "* Save the plotted figures as .pngs."
   ]
  },
  {
   "cell_type": "markdown",
   "metadata": {},
   "source": [
    "## Latitude vs. Temperature Plot"
   ]
  },
  {
   "cell_type": "code",
   "execution_count": 15,
   "metadata": {
    "scrolled": true
   },
   "outputs": [
    {
     "data": {
      "text/plain": [
       "<Figure size 432x288 with 0 Axes>"
      ]
     },
     "metadata": {},
     "output_type": "display_data"
    },
    {
     "data": {
      "image/png": "[encoded data removed]",
      "text/plain": [
       "<Figure size 432x288 with 1 Axes>"
      ]
     },
     "metadata": {
      "needs_background": "light"
     },
     "output_type": "display_data"
    }
   ],
   "source": [
    "# PLOT DATA FROM ABOVE REFER TO CLASS WORK WEEK 6 COPY THIS EXAMPLE FOR OTHER PLOTS BELOW TO MAKE EASIER\n",
    "\n",
    "plt.figure(facecolor=(1, 1, 1))\n",
    "fig = plt.figure()\n",
    "fig.patch.set_facecolor\n",
    "plt.scatter(clean_city_data[\"Lat\"],clean_city_data[\"Max Temp\"] )\n",
    "plt.title(\"City Latitude vs Max Temperature\")\n",
    "plt.ylabel(\"Max Temprature\")\n",
    "plt.xlabel(\"Latitude\")\n",
    "plt.grid (b=True,which=\"major\",axis=\"both\",linestyle=\"-\",color=\"red\")"
   ]
  },
  {
   "cell_type": "markdown",
   "metadata": {},
   "source": [
    "## Latitude vs. Humidity Plot"
   ]
  },
  {
   "cell_type": "code",
   "execution_count": 16,
   "metadata": {},
   "outputs": [
    {
     "data": {
      "text/plain": [
       "<Figure size 432x288 with 0 Axes>"
      ]
     },
     "metadata": {},
     "output_type": "display_data"
    },
    {
     "data": {
      "image/png": "[encoded data removed]",
      "text/plain": [
       "<Figure size 432x288 with 1 Axes>"
      ]
     },
     "metadata": {
      "needs_background": "light"
     },
     "output_type": "display_data"
    }
   ],
   "source": [
    "# PLOT DATA FROM ABOVE REFER TO CLASS WORK WEEK 6 COPY THIS EXAMPLE FOR OTHER PLOTS BELOW TO MAKE EASIER\n",
    "\n",
    "plt.figure(facecolor=(1, 1, 1))\n",
    "fig = plt.figure()\n",
    "fig.patch.set_facecolor\n",
    "plt.scatter(clean_city_data[\"Lat\"],clean_city_data[\"Humidity\"] )\n",
    "plt.title(\"City Latitude vs Humidity\")\n",
    "plt.ylabel(\"Humidity\")\n",
    "plt.xlabel(\"Latitude\")\n",
    "plt.grid (b=True,which=\"major\",axis=\"both\",linestyle=\"-\",color=\"red\")"
   ]
  },
  {
   "cell_type": "markdown",
   "metadata": {},
   "source": [
    "## Latitude vs. Cloudiness Plot"
   ]
  },
  {
   "cell_type": "code",
   "execution_count": 17,
   "metadata": {},
   "outputs": [
    {
     "data": {
      "text/plain": [
       "<Figure size 432x288 with 0 Axes>"
      ]
     },
     "metadata": {},
     "output_type": "display_data"
    },
    {
     "data": {
      "image/png": "[encoded data removed]",
      "text/plain": [
       "<Figure size 432x288 with 1 Axes>"
      ]
     },
     "metadata": {
      "needs_background": "light"
     },
     "output_type": "display_data"
    }
   ],
   "source": [
    "# PLOT DATA FROM ABOVE REFER TO CLASS WORK WEEK 6 COPY THIS EXAMPLE FOR OTHER PLOTS BELOW TO MAKE EASIER\n",
    "\n",
    "plt.figure(facecolor=(1, 1, 1))\n",
    "fig = plt.figure()\n",
    "fig.patch.set_facecolor\n",
    "plt.scatter(clean_city_data[\"Lat\"],clean_city_data[\"Cloudiness\"] )\n",
    "plt.title(\"City Latitude vs Cloudiness\")\n",
    "plt.ylabel(\"Cloudiness\")\n",
    "plt.xlabel(\"Latitude\")\n",
    "plt.grid (b=True,which=\"major\",axis=\"both\",linestyle=\"-\",color=\"red\")"
   ]
  },
  {
   "cell_type": "markdown",
   "metadata": {},
   "source": [
    "## Latitude vs. Wind Speed Plot"
   ]
  },
  {
   "cell_type": "code",
   "execution_count": 18,
   "metadata": {},
   "outputs": [
    {
     "data": {
      "text/plain": [
       "<Figure size 432x288 with 0 Axes>"
      ]
     },
     "metadata": {},
     "output_type": "display_data"
    },
    {
     "data": {
      "image/png": "[encoded data removed]",
      "text/plain": [
       "<Figure size 432x288 with 1 Axes>"
      ]
     },
     "metadata": {
      "needs_background": "light"
     },
     "output_type": "display_data"
    }
   ],
   "source": [
    "# PLOT DATA FROM ABOVE REFER TO CLASS WORK WEEK 6 COPY THIS EXAMPLE FOR OTHER PLOTS BELOW TO MAKE EASIER\n",
    "\n",
    "plt.figure(facecolor=(1, 1, 1))\n",
    "fig = plt.figure()\n",
    "fig.patch.set_facecolor\n",
    "plt.scatter(clean_city_data[\"Lat\"],clean_city_data[\"Wind Speed\"] )\n",
    "plt.title(\"City Latitude vs Wind Speed\")\n",
    "plt.ylabel(\"Wind Speed\")\n",
    "plt.xlabel(\"Latitude\")\n",
    "plt.grid (b=True,which=\"major\",axis=\"both\",linestyle=\"-\",color=\"red\")"
   ]
  },
  {
   "cell_type": "markdown",
   "metadata": {},
   "source": [
    "## Linear Regression"
   ]
  },
  {
   "cell_type": "code",
   "execution_count": null,
   "metadata": {},
   "outputs": [],
   "source": []
  },
  {
   "cell_type": "markdown",
   "metadata": {},
   "source": [
    "####  Northern Hemisphere - Max Temp vs. Latitude Linear Regression"
   ]
  },
  {
   "cell_type": "code",
   "execution_count": 34,
   "metadata": {},
   "outputs": [],
   "source": [
    "northern_hem = clean_city_data.loc[clean_city_data['Lat'] > 0]\n",
    "\n",
    "def max_temp(x_values,y_values):\n",
    "\n",
    "    # Perform a linear regression on temperature vs. latitude\n",
    "    (slope, intercept, rvalue, pvalue, stderr) = stats.linregress(x_values, y_values)\n",
    "\n",
    "    # Get regression values\n",
    "    regress_values = x_values * slope + intercept\n",
    "    print(regress_values)\n",
    "    \n",
    "    # Create line equation string\n",
    "    line_eq = \"y = \" + str(round(slope,2)) + \"x +\" + str(round(intercept,2))\n",
    "    print(line_eq)\n",
    "\n",
    "    \n",
    "    # Create Plot\n",
    "    plt.scatter(x_values,y_values)\n",
    "    plt.plot(x_values,regress_values,\"r-\")\n",
    "\n",
    "    # Label plot and annotate the line equation\n",
    "    plt.xlabel('Latitude')\n",
    "    plt.ylabel('Max Temp')\n",
    "    plt.annotate(line_eq,(20,15),fontsize=15,color=\"red\")\n",
    "\n",
    "    # Print r value\n",
    "    print(f\"The r-value is: {rvalue**2}\")\n",
    "\n",
    "    # Show plot\n",
    "    plt.show()\n",
    "\n",
    "\n",
    "\n",
    "\n"
   ]
  },
  {
   "cell_type": "code",
   "execution_count": 38,
   "metadata": {},
   "outputs": [],
   "source": [
    "# Southern Hemisphere\n",
    "\n",
    "southern_hem = clean_city_data.loc[clean_city_data['Lat'] < 0]\n",
    "\n",
    "def max_temp(x_values,y_values):\n",
    "\n",
    "    # Perform a linear regression on temperature vs. latitude\n",
    "    (slope, intercept, rvalue, pvalue, stderr) = stats.linregress(x_values, y_values)\n",
    "\n",
    "    # Get regression values\n",
    "    regress_values = x_values * slope + intercept\n",
    "    print(regress_values)\n",
    "    \n",
    "    # Create line equation string\n",
    "    line_eq = \"y = \" + str(round(slope,2)) + \"x +\" + str(round(intercept,2))\n",
    "    print(line_eq)\n",
    "\n",
    "    \n",
    "    # Create Plot\n",
    "    plt.scatter(x_values,y_values)\n",
    "    plt.plot(x_values,regress_values,\"r-\")\n",
    "\n",
    "    # Label plot and annotate the line equation\n",
    "    plt.xlabel('Latitude')\n",
    "    plt.ylabel('Max Temp')\n",
    "    plt.annotate(line_eq,(20,15),fontsize=15,color=\"red\")\n",
    "\n",
    "    # Print r value\n",
    "    print(f\"The r-value is: {rvalue**2}\")\n",
    "\n",
    "    # Show plot\n",
    "    plt.show()\n",
    "\n"
   ]
  },
  {
   "cell_type": "code",
   "execution_count": 35,
   "metadata": {},
   "outputs": [
    {
     "name": "stdout",
     "output_type": "stream",
     "text": [
      "0      31.419006\n",
      "2      31.060703\n",
      "4      63.809637\n",
      "5      45.348053\n",
      "7      75.499287\n",
      "         ...    \n",
      "546    59.608529\n",
      "547    38.092408\n",
      "548    58.426128\n",
      "550    71.298179\n",
      "551    51.009247\n",
      "Name: Lat, Length: 361, dtype: float64\n",
      "y = -0.9x +95.28\n",
      "The r-value is: 0.7699748543170012\n"
     ]
    },
    {
     "data": {
      "image/png": "[encoded data removed]",
      "text/plain": [
       "<Figure size 432x288 with 1 Axes>"
      ]
     },
     "metadata": {
      "needs_background": "light"
     },
     "output_type": "display_data"
    }
   ],
   "source": [
    "x_values = northern_hem[\"Lat\"]\n",
    "y_values = northern_hem[\"Max Temp\"]\n",
    "max_temp(x_values,y_values)\n",
    "\n"
   ]
  },
  {
   "cell_type": "code",
   "execution_count": null,
   "metadata": {},
   "outputs": [],
   "source": []
  },
  {
   "cell_type": "markdown",
   "metadata": {},
   "source": [
    "####  Southern Hemisphere - Max Temp vs. Latitude Linear Regression"
   ]
  },
  {
   "cell_type": "code",
   "execution_count": 39,
   "metadata": {},
   "outputs": [
    {
     "name": "stdout",
     "output_type": "stream",
     "text": [
      "1      63.100741\n",
      "3      80.867440\n",
      "6      62.444052\n",
      "8      49.584483\n",
      "12     63.454344\n",
      "         ...    \n",
      "537    82.159170\n",
      "538    75.888146\n",
      "540    62.913116\n",
      "543    63.403829\n",
      "549    67.170773\n",
      "Name: Lat, Length: 172, dtype: float64\n",
      "y = 0.72x +87.94\n",
      "The r-value is: 0.5642935761414938\n"
     ]
    },
    {
     "data": {
      "image/png": "[encoded data removed]",
      "text/plain": [
       "<Figure size 432x288 with 1 Axes>"
      ]
     },
     "metadata": {
      "needs_background": "light"
     },
     "output_type": "display_data"
    }
   ],
   "source": [
    "x_values = southern_hem[\"Lat\"]\n",
    "y_values = southern_hem[\"Max Temp\"]\n",
    "max_temp(x_values,y_values)\n"
   ]
  },
  {
   "cell_type": "markdown",
   "metadata": {},
   "source": [
    "####  Northern Hemisphere - Humidity (%) vs. Latitude Linear Regression"
   ]
  },
  {
   "cell_type": "code",
   "execution_count": 43,
   "metadata": {},
   "outputs": [
    {
     "name": "stdout",
     "output_type": "stream",
     "text": [
      "0      82.029912\n",
      "2      82.153543\n",
      "4      70.853693\n",
      "5      77.223767\n",
      "7      66.820240\n",
      "         ...    \n",
      "546    72.303264\n",
      "547    79.727290\n",
      "548    72.711245\n",
      "550    68.269811\n",
      "551    75.270402\n",
      "Name: Lat, Length: 361, dtype: float64\n",
      "y = 0.31x +60.0\n",
      "The r-value is: 0.08677642506106664\n"
     ]
    },
    {
     "data": {
      "image/png": "[encoded data removed]",
      "text/plain": [
       "<Figure size 432x288 with 1 Axes>"
      ]
     },
     "metadata": {
      "needs_background": "light"
     },
     "output_type": "display_data"
    }
   ],
   "source": [
    "x_values = northern_hem[\"Lat\"]\n",
    "y_values = northern_hem[\"Humidity\"]\n",
    "max_temp(x_values,y_values)\n"
   ]
  },
  {
   "cell_type": "markdown",
   "metadata": {},
   "source": [
    "####  Southern Hemisphere - Humidity (%) vs. Latitude Linear Regression"
   ]
  },
  {
   "cell_type": "code",
   "execution_count": 40,
   "metadata": {},
   "outputs": [
    {
     "name": "stdout",
     "output_type": "stream",
     "text": [
      "1      63.166144\n",
      "3      65.969298\n",
      "6      63.062534\n",
      "8      61.033607\n",
      "12     63.221934\n",
      "         ...    \n",
      "537    66.173102\n",
      "538    65.183686\n",
      "540    63.136541\n",
      "543    63.213964\n",
      "549    63.808296\n",
      "Name: Lat, Length: 172, dtype: float64\n",
      "y = 0.11x +67.09\n",
      "The r-value is: 0.004127742408413008\n"
     ]
    },
    {
     "data": {
      "image/png": "[encoded data removed]",
      "text/plain": [
       "<Figure size 432x288 with 1 Axes>"
      ]
     },
     "metadata": {
      "needs_background": "light"
     },
     "output_type": "display_data"
    }
   ],
   "source": [
    "x_values = southern_hem[\"Lat\"]\n",
    "y_values = southern_hem[\"Humidity\"]\n",
    "max_temp(x_values,y_values)\n"
   ]
  },
  {
   "cell_type": "markdown",
   "metadata": {},
   "source": [
    "####  Northern Hemisphere - Cloudiness (%) vs. Latitude Linear Regression"
   ]
  },
  {
   "cell_type": "code",
   "execution_count": 36,
   "metadata": {},
   "outputs": [
    {
     "name": "stdout",
     "output_type": "stream",
     "text": [
      "0      71.429695\n",
      "2      71.638656\n",
      "4      52.539663\n",
      "5      63.306354\n",
      "7      45.722326\n",
      "         ...    \n",
      "546    54.989725\n",
      "547    67.537805\n",
      "548    55.679295\n",
      "550    48.172388\n",
      "551    60.004778\n",
      "Name: Lat, Length: 361, dtype: float64\n",
      "y = 0.52x +34.19\n",
      "The r-value is: 0.07311000205177752\n"
     ]
    },
    {
     "data": {
      "image/png": "[encoded data removed]",
      "text/plain": [
       "<Figure size 432x288 with 1 Axes>"
      ]
     },
     "metadata": {
      "needs_background": "light"
     },
     "output_type": "display_data"
    }
   ],
   "source": [
    "x_values = northern_hem[\"Lat\"]\n",
    "y_values = northern_hem[\"Cloudiness\"]\n",
    "max_temp(x_values,y_values)"
   ]
  },
  {
   "cell_type": "markdown",
   "metadata": {},
   "source": [
    "####  Southern Hemisphere - Cloudiness (%) vs. Latitude Linear Regression"
   ]
  },
  {
   "cell_type": "code",
   "execution_count": 41,
   "metadata": {},
   "outputs": [
    {
     "name": "stdout",
     "output_type": "stream",
     "text": [
      "1      40.230558\n",
      "3      50.392651\n",
      "6      39.854948\n",
      "8      32.499607\n",
      "12     40.432809\n",
      "         ...    \n",
      "537    51.131487\n",
      "538    47.544623\n",
      "540    40.123241\n",
      "543    40.403916\n",
      "549    42.558511\n",
      "Name: Lat, Length: 172, dtype: float64\n",
      "y = 0.41x +54.44\n",
      "The r-value is: 0.023179535713883537\n"
     ]
    },
    {
     "data": {
      "image/png": "[encoded data removed]",
      "text/plain": [
       "<Figure size 432x288 with 1 Axes>"
      ]
     },
     "metadata": {
      "needs_background": "light"
     },
     "output_type": "display_data"
    }
   ],
   "source": [
    "x_values = southern_hem[\"Lat\"]\n",
    "y_values = southern_hem[\"Cloudiness\"]\n",
    "max_temp(x_values,y_values)\n"
   ]
  },
  {
   "cell_type": "markdown",
   "metadata": {},
   "source": [
    "####  Northern Hemisphere - Wind Speed (mph) vs. Latitude Linear Regression"
   ]
  },
  {
   "cell_type": "code",
   "execution_count": 37,
   "metadata": {},
   "outputs": [
    {
     "name": "stdout",
     "output_type": "stream",
     "text": [
      "0      9.394992\n",
      "2      9.405492\n",
      "4      8.445750\n",
      "5      8.986787\n",
      "7      8.103173\n",
      "         ...   \n",
      "546    8.568868\n",
      "547    9.199421\n",
      "548    8.603520\n",
      "550    8.226291\n",
      "551    8.820879\n",
      "Name: Lat, Length: 361, dtype: float64\n",
      "y = 0.03x +7.52\n",
      "The r-value is: 0.008129974475861047\n"
     ]
    },
    {
     "data": {
      "image/png": "[encoded data removed]",
      "text/plain": [
       "<Figure size 432x288 with 1 Axes>"
      ]
     },
     "metadata": {
      "needs_background": "light"
     },
     "output_type": "display_data"
    }
   ],
   "source": [
    "x_values = northern_hem[\"Lat\"]\n",
    "y_values = northern_hem[\"Wind Speed\"]\n",
    "max_temp(x_values,y_values)"
   ]
  },
  {
   "cell_type": "markdown",
   "metadata": {},
   "source": [
    "####  Southern Hemisphere - Wind Speed (mph) vs. Latitude Linear Regression"
   ]
  },
  {
   "cell_type": "code",
   "execution_count": 42,
   "metadata": {},
   "outputs": [
    {
     "name": "stdout",
     "output_type": "stream",
     "text": [
      "1       9.924989\n",
      "3       7.534063\n",
      "6      10.013362\n",
      "8      11.743918\n",
      "12      9.877403\n",
      "         ...    \n",
      "537     7.360230\n",
      "538     8.204144\n",
      "540     9.950238\n",
      "543     9.884201\n",
      "549     9.377271\n",
      "Name: Lat, Length: 172, dtype: float64\n",
      "y = -0.1x +6.58\n",
      "The r-value is: 0.04901032666955297\n"
     ]
    },
    {
     "data": {
      "image/png": "[encoded data removed]",
      "text/plain": [
       "<Figure size 432x288 with 1 Axes>"
      ]
     },
     "metadata": {
      "needs_background": "light"
     },
     "output_type": "display_data"
    }
   ],
   "source": [
    "x_values = southern_hem[\"Lat\"]\n",
    "y_values = southern_hem[\"Wind Speed\"]\n",
    "max_temp(x_values,y_values)\n"
   ]
  },
  {
   "cell_type": "code",
   "execution_count": null,
   "metadata": {},
   "outputs": [],
   "source": []
  }
 ],
 "metadata": {
  "anaconda-cloud": {},
  "kernel_info": {
   "name": "python3"
  },
  "kernelspec": {
   "display_name": "Python 3",
   "language": "python",
   "name": "python3"
  },
  "language_info": {
   "codemirror_mode": {
    "name": "ipython",
    "version": 3
   },
   "file_extension": ".py",
   "mimetype": "text/x-python",
   "name": "python",
   "nbconvert_exporter": "python",
   "pygments_lexer": "ipython3",
   "version": "3.8.3"
  },
  "latex_envs": {
   "LaTeX_envs_menu_present": true,
   "autoclose": false,
   "autocomplete": true,
   "bibliofile": "biblio.bib",
   "cite_by": "apalike",
   "current_citInitial": 1,
   "eqLabelWithNumbers": true,
   "eqNumInitial": 1,
   "hotkeys": {
    "equation": "Ctrl-E",
    "itemize": "Ctrl-I"
   },
   "labels_anchors": false,
   "latex_user_defs": false,
   "report_style_numbering": false,
   "user_envs_cfg": false
  },
  "nteract": {
   "version": "0.12.3"
  }
 },
 "nbformat": 4,
 "nbformat_minor": 4
}
